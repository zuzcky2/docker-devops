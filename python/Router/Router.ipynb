{
 "cells": [
  {
   "cell_type": "code",
   "execution_count": null,
   "metadata": {
    "collapsed": true
   },
   "outputs": [],
   "source": [
    "if __name__ == '__main__':\n",
    "    import import_ipynb, os, sys\n",
    "    sys.path.append(os.environ['PROJECT_ROOT'])"
   ]
  },
  {
   "cell_type": "code",
   "execution_count": null,
   "outputs": [],
   "source": [
    "from fastapi import FastAPI, APIRouter, Header, HTTPException, Request, Depends, Path, Response, Cookie, File, UploadFile\n",
    "from fastapi.responses import JSONResponse, HTMLResponse, PlainTextResponse\n",
    "from fastapi.exceptions import RequestValidationError\n",
    "from fastapi.openapi.utils import get_openapi\n",
    "from starlette.middleware.cors import CORSMiddleware\n",
    "from starlette.staticfiles import StaticFiles\n",
    "from fastapi.security import OAuth2PasswordBearer, OAuth2PasswordRequestForm\n",
    "from starlette.status import HTTP_422_UNPROCESSABLE_ENTITY\n",
    "from fastapi.templating import Jinja2Templates\n",
    "from fastapi.security import APIKeyHeader\n",
    "from pydantic import constr, Field\n",
    "from typing import Optional\n",
    "import sys, traceback, httpx, json, pymongo, bson"
   ],
   "metadata": {
    "collapsed": false,
    "pycharm": {
     "name": "#%%\n"
    }
   }
  },
  {
   "cell_type": "code",
   "execution_count": null,
   "outputs": [],
   "source": [
    "from app.Validations.Validation import MongoModel, PyObjectId\n",
    "import app.Exceptions.HttpException as HEP\n",
    "from app.kernel import env\n",
    "from app.Enums.ErrorCodeEnum import ErrorCodeEnum\n",
    "from app.Validations.Validation import ResponseBase, ValidationRules"
   ],
   "metadata": {
    "collapsed": false,
    "pycharm": {
     "name": "#%%\n"
    }
   }
  },
  {
   "cell_type": "code",
   "execution_count": null,
   "outputs": [],
   "source": [
    "class Helper:\n",
    "\n",
    "    @staticmethod\n",
    "    def exception_handler(e, request):\n",
    "        request_dict = request.__dict__\n",
    "        if not hasattr(e, 'code') or not hasattr(e, 'error'):\n",
    "            e = HEP.InternalServerError500Exception()\n",
    "            log_data = e.__dict__\n",
    "            log_data['error'] = traceback.format_exc() if not log_data['error'] else log_data['error']\n",
    "            log_data['request'] = {\n",
    "                'client': {'host': request.client.host, 'port': request.client.port},\n",
    "                'server': {'host': request_dict['scope']['server'][0], 'port': request_dict['scope']['server'][1]},\n",
    "                'headers': dict(request.headers),\n",
    "                'url': str(request.url),\n",
    "                'scope': request_dict['scope']['root_path'],\n",
    "                'method': request.method,\n",
    "                'scheme': request_dict['scope']['scheme']\n",
    "            }\n",
    "            log_data['created_at'] = DateService.now()\n",
    "        except_data = ResponseBase(data=e.data, msg=e.msg, status_code=e.code, result=False).dict()\n",
    "        return JSONResponse(status_code=e.code, content=except_data)\n",
    "\n",
    "    apiKey = OAuth2PasswordBearer(tokenUrl=\"token\")\n",
    "\n",
    "    @staticmethod\n",
    "    async def csrf_authorize(token: str = Depends(apiKey)):\n",
    "        Auth().store(token)"
   ],
   "metadata": {
    "collapsed": false,
    "pycharm": {
     "name": "#%%\n"
    }
   }
  },
  {
   "cell_type": "code",
   "execution_count": null,
   "outputs": [],
   "source": [
    "class API:\n",
    "    auth = APIRouter(prefix='/api/auth')\n",
    "    router = APIRouter(dependencies=[Depends(Helper.csrf_authorize)], prefix='/science')"
   ],
   "metadata": {
    "collapsed": false,
    "pycharm": {
     "name": "#%%\n"
    }
   }
  },
  {
   "cell_type": "code",
   "execution_count": null,
   "outputs": [],
   "source": [
    "app = FastAPI(docs_url=None)\n",
    "\n",
    "app.include_router(API.router)\n",
    "@app.middleware(\"http\")\n",
    "async def middleware_manager(request: Request, call_next):\n",
    "\n",
    "    print('api middleware start')\n",
    "    try:\n",
    "        response = await call_next(request)\n",
    "    except bson.errors.InvalidId:\n",
    "        e = ErrorCodeEnum.INVALID_OBJECT_ID\n",
    "        response = Helper.exception_handler(e, request)\n",
    "    except Exception as e:\n",
    "        response = Helper.exception_handler(e, request)\n",
    "        print(e)\n",
    "    print('api middleware end')\n",
    "    return response\n",
    "\n",
    "app.add_middleware(\n",
    "    CORSMiddleware,\n",
    "    allow_origins=[env['SERVER_NAME'], '*.{}'.format(env['SERVER_NAME'])],\n",
    "    allow_credentials=True,\n",
    "    allow_methods=[\"*\"],\n",
    "    allow_headers=['Content-Type', 'X-Requested-With', 'Accept', 'X-CSRF-TOKEN', 'Authorization', 'X-Client-Token']\n",
    ")\n",
    "\n",
    "\n",
    "def custom_openapi():\n",
    "    if app.openapi_schema:\n",
    "        return app.openapi_schema\n",
    "    openapi_schema = get_openapi(\n",
    "        title=\"Data Science\",\n",
    "        version=\"1.0.0\",\n",
    "        description=\"\",\n",
    "        routes=app.routes,\n",
    "    )\n",
    "    app.openapi_schema = openapi_schema\n",
    "    return app.openapi_schema\n",
    "\n",
    "app.openapi = custom_openapi"
   ],
   "metadata": {
    "collapsed": false,
    "pycharm": {
     "name": "#%%\n"
    }
   }
  }
 ],
 "metadata": {
  "kernelspec": {
   "display_name": "Python 3",
   "language": "python",
   "name": "python3"
  },
  "language_info": {
   "codemirror_mode": {
    "name": "ipython",
    "version": 2
   },
   "file_extension": ".py",
   "mimetype": "text/x-python",
   "name": "python",
   "nbconvert_exporter": "python",
   "pygments_lexer": "ipython2",
   "version": "2.7.6"
  }
 },
 "nbformat": 4,
 "nbformat_minor": 0
}