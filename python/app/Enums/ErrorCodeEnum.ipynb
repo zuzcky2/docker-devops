{
 "cells": [
  {
   "cell_type": "code",
   "execution_count": 1,
   "outputs": [],
   "source": [
    "if __name__ == '__main__':\n",
    "    import import_ipynb, os, sys\n",
    "    sys.path.append(os.environ['PROJECT_ROOT'])"
   ],
   "metadata": {
    "collapsed": false,
    "pycharm": {
     "name": "#%%\n"
    }
   }
  },
  {
   "cell_type": "code",
   "execution_count": null,
   "outputs": [],
   "source": [
    "from enum import Enum\n",
    "import app.Exceptions.HttpException as HEP"
   ],
   "metadata": {
    "collapsed": false,
    "pycharm": {
     "name": "#%%\n"
    }
   }
  },
  {
   "cell_type": "code",
   "execution_count": 2,
   "outputs": [],
   "source": [
    "class ErrorCodeEnum(str, Enum):\n",
    "    INVALID_OBJECT_ID = HEP.UnprocessableEntity422Exception(\n",
    "        error='INVALID_OBJECT_ID', message='잘못된 형식의 id입니다.')\n",
    "\n",
    "    BAD_ACCESS = HEP.Unauthorized401Exception(\n",
    "        error='BAD_ACCESS', message='비정상적인 접근입니다.')\n",
    "\n",
    "    OAUTH_NOT_EXISTS = HEP.Unauthorized401Exception(\n",
    "        error='OAUTH_NOT_EXISTS', message='해당 요청으로 등록된 토큰이 없거나 만료되었습니다.')\n",
    "    OAUTH_TOKEN_NOT_VALID = HEP.Unauthorized401Exception(\n",
    "        error='OAUTH_TOKEN_NOT_VALID', message='요청받은 토큰값이 일치하지 않아 실패하였습니다.')\n",
    "    OAUTH_USER_NOT_VALID = HEP.BadRequest400Exception(\n",
    "        error='OAUTH_BAD_REQUEST', message='등록되어있지 않은 어플리케이션, 또는 잘못된 요청 정보입니다.')\n",
    "    OAUTH_AUTHORIZE_FAILED = HEP.Unauthorized401Exception(\n",
    "        error='OAUTH_AUTHORIZE_FAILED', message='등록되어있지 않은 토큰 또는 만료된 토큰 또는 허용되지않은 요청지입니다.')\n",
    "    OAUTH_STATUS_FAILED = HEP.UnprocessableEntity422Exception(\n",
    "        error='OAUTH_STATUS_FAILED', message='해당 계정은 승인되어있지 않습니다.')\n",
    "\n",
    "    VALIDATION_FAIL_NOT_BASE64 = HEP.UnprocessableEntity422Exception(\n",
    "        error='VALIDATION_FAIL_NOT_BASE64', message='해당값은 base64 string이 아닙니다.')\n",
    "    VALIDATION_FAIL_NONE_EMPTY = HEP.UnprocessableEntity422Exception(\n",
    "        error='VALIDATION_FAIL_NONE_EMPTY', message='공백 또는 화이트스페이스값은 허용하지 않습니다.')\n",
    "    VALIDATION_FAIL_NOT_DOMAIN = HEP.UnprocessableEntity422Exception(\n",
    "        error='VALIDATION_FAIL_NOT_DOMAIN', message='요청하신 값은 도메인 형식이 아닙니다.')\n"
   ],
   "metadata": {
    "collapsed": false,
    "pycharm": {
     "name": "#%%\n"
    }
   }
  }
 ],
 "metadata": {
  "kernelspec": {
   "name": "science",
   "language": "python",
   "display_name": "science"
  },
  "language_info": {
   "codemirror_mode": {
    "name": "ipython",
    "version": 2
   },
   "file_extension": ".py",
   "mimetype": "text/x-python",
   "name": "python",
   "nbconvert_exporter": "python",
   "pygments_lexer": "ipython2",
   "version": "2.7.6"
  }
 },
 "nbformat": 4,
 "nbformat_minor": 0
}