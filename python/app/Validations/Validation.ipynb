{
 "cells": [
  {
   "cell_type": "code",
   "execution_count": 1,
   "outputs": [],
   "source": [
    "if __name__ == '__main__':\n",
    "    import import_ipynb, os, sys\n",
    "    sys.path.append(os.environ['PROJECT_ROOT'])"
   ],
   "metadata": {
    "collapsed": false,
    "pycharm": {
     "name": "#%%\n"
    }
   }
  },
  {
   "cell_type": "code",
   "execution_count": 2,
   "metadata": {
    "collapsed": true
   },
   "outputs": [],
   "source": [
    "from typing import Generic, TypeVar, Optional, List, Dict, Any, Union, Set\n",
    "from bson.objectid import ObjectId\n",
    "from pydantic import BaseModel, ValidationError, Field, create_model\n",
    "from pydantic.generics import GenericModel\n",
    "from app.Exceptions.HttpException import UnprocessableEntity422Exception\n",
    "import base64, inspect, re\n",
    "import validators as vdt\n",
    "from app.Enums.ErrorCodeEnum import ErrorCodeEnum\n",
    "from bson import ObjectId"
   ]
  },
  {
   "cell_type": "code",
   "execution_count": 3,
   "outputs": [],
   "source": [
    "\n",
    "DATA = TypeVar('DATA')"
   ],
   "metadata": {
    "collapsed": false,
    "pycharm": {
     "name": "#%%\n"
    }
   }
  },
  {
   "cell_type": "code",
   "execution_count": 4,
   "outputs": [],
   "source": [
    "class PyObjectId(ObjectId):\n",
    "    @classmethod\n",
    "    def __get_validators__(cls):\n",
    "        yield cls.validate\n",
    "\n",
    "    @classmethod\n",
    "    def validate(cls, v):\n",
    "        if not ObjectId.is_valid(v):\n",
    "            raise ValueError(\"Invalid objectid\")\n",
    "        return ObjectId(v)\n",
    "\n",
    "    @classmethod\n",
    "    def __modify_schema__(cls, field_schema):\n",
    "        field_schema.update(type=\"string\")\n",
    "\n",
    "\n",
    "class MongoModel(BaseModel):\n",
    "    class Config:\n",
    "        allow_population_by_field_name = True\n",
    "        arbitrary_types_allowed = True\n",
    "        json_encoders = {ObjectId: str}\n",
    "\n",
    "\n",
    "class ResponseBase(GenericModel, Generic[DATA], MongoModel):\n",
    "    result: bool = Field(True, title='해당 API 요청의 결과 true 또는 false',\n",
    "                         description=\"요청하신 API의 응답 결과의 성공/실패 여부를 나타냅니다.\",\n",
    "                         example=True)\n",
    "    status_code: int = Field(200, title='Http Status Code',\n",
    "                             description=\"요청한 응답 결과의 http 상태코드를 나타냅니다.\",\n",
    "                             example=200)\n",
    "    error: Any = Field(False, title='에러 관련 상세내용',\n",
    "                       description=\"요청하신 API의 응답 결과가 실패 또는 에러가 발생 시 상세한 정보를 나타냅니다.\",\n",
    "                       example='상세_에러_내용')\n",
    "    msg: str = Field(None, title='응답 메시지',\n",
    "                     description=\"요청하신 API의 응답 결과에대한 메시지입니다.\",\n",
    "                     example='응답_결과_내용')\n",
    "    data: Optional[DATA] = Field({}, title='응답 데이터',\n",
    "                                 description=\"요청하신 API의 응답할 데이터입니다.\")\n",
    "\n",
    "    @staticmethod\n",
    "    def r(Model):\n",
    "        return create_model(Model.__name__, __base__=ResponseBase[Model])\n",
    "\n",
    "\n",
    "class PagenationRequest(MongoModel):\n",
    "    page: int = Field(1, title='요청할 페이지 번호', example=1)\n",
    "    per_page: int = Field(20, title='한 페이지에 요청할 아이템 갯수', example=20)\n",
    "\n",
    "\n",
    "class PagenationResponse(MongoModel):\n",
    "    total: int = Field(title='검색결과의 조회가능한 총 갯수',\n",
    "                       description=\"검색결과에 해당하는 이미지의 총 갯수입니다.\")\n",
    "    current_page: int = Field(title='현재 조회하신 페이지 번호',\n",
    "                              description='현재 조회하신 페이지번호이며, last_page까지 조회가 가능합니다.')\n",
    "    per_page: int = Field(title='한 페이지에 조회할 이미지 갯수',\n",
    "                          description='한 페이지에 조회가능한 페이지 갯수입니다.')\n",
    "    last_page: int = Field(title='조회가능한 마지막 페이지',\n",
    "                           description='조회 가능한 마지막 페이지 번호이며, 페이징 처리시 사용됩니다.')\n",
    "\n",
    "class KeyValueResponse(MongoModel):\n",
    "    class KeyValue(MongoModel):\n",
    "        value: str = Field(title='값')\n",
    "        text: str = Field(title='텍스트')\n",
    "    __root__: List[KeyValue]\n",
    "\n",
    "\n",
    "class ValidationRules:\n",
    "    @staticmethod\n",
    "    def varname(p):\n",
    "        for line in inspect.getframeinfo(inspect.currentframe().f_back)[3]:\n",
    "            m = re.search(r'\\bvarname\\s*\\(\\s*([A-Za-z_][A-Za-z0-9_]*)\\s*\\)', line)\n",
    "            if m:\n",
    "                return m.group(1)\n",
    "\n",
    "    @staticmethod\n",
    "    def is_base64(items: List[str] = None) -> Optional[List[str]]:\n",
    "        for item in items:\n",
    "            try:\n",
    "                base64_data = base64.b64encode(base64.b64decode(item))\n",
    "                if base64_data.decode('utf-8') != item:\n",
    "                    raise ErrorCodeEnum.VALIDATION_FAIL_NOT_BASE64\n",
    "            except Exception as e:\n",
    "                raise ErrorCodeEnum.VALIDATION_FAIL_NOT_BASE64\n",
    "        return items\n",
    "\n",
    "    @staticmethod\n",
    "    def is_empty(item: Union[List[str], str] = None) -> Any:\n",
    "        if item is not None:\n",
    "            if type(item) == list:\n",
    "                for data in item:\n",
    "                    data = data.strip()\n",
    "                    if not data:\n",
    "                        raise ErrorCodeEnum.VALIDATION_FAIL_NONE_EMPTY\n",
    "            elif type(item) == str:\n",
    "                item = item.strip()\n",
    "                if not item:\n",
    "                    raise ErrorCodeEnum.VALIDATION_FAIL_NONE_EMPTY\n",
    "        return item\n",
    "\n",
    "    @staticmethod\n",
    "    def is_domain(text: Optional[str] = None) -> Any:\n",
    "        if text is not None:\n",
    "            text = text.strip()\n",
    "            if text:\n",
    "                if vdt.domain(text):\n",
    "                    return text\n",
    "                else:\n",
    "                    raise ErrorCodeEnum.VALIDATION_FAIL_NOT_DOMAIN\n",
    "            else:\n",
    "                raise ErrorCodeEnum.VALIDATION_FAIL_NONE_EMPTY\n",
    "        else:\n",
    "            return None"
   ],
   "metadata": {
    "collapsed": false,
    "pycharm": {
     "name": "#%%\n"
    }
   }
  },
  {
   "cell_type": "code",
   "execution_count": null,
   "outputs": [],
   "source": [],
   "metadata": {
    "collapsed": false,
    "pycharm": {
     "name": "#%%\n"
    }
   }
  }
 ],
 "metadata": {
  "kernelspec": {
   "name": "science",
   "language": "python",
   "display_name": "science"
  },
  "language_info": {
   "codemirror_mode": {
    "name": "ipython",
    "version": 2
   },
   "file_extension": ".py",
   "mimetype": "text/x-python",
   "name": "python",
   "nbconvert_exporter": "python",
   "pygments_lexer": "ipython2",
   "version": "2.7.6"
  }
 },
 "nbformat": 4,
 "nbformat_minor": 0
}