{
 "cells": [
  {
   "cell_type": "code",
   "execution_count": 7,
   "outputs": [],
   "source": [
    "if __name__ == '__main__':\n",
    "    import import_ipynb, os, sys\n",
    "    sys.path.append(os.environ['PROJECT_ROOT'])"
   ],
   "metadata": {
    "collapsed": false,
    "pycharm": {
     "name": "#%%\n"
    }
   }
  },
  {
   "cell_type": "code",
   "execution_count": 8,
   "outputs": [],
   "source": [
    "import os, sys\n",
    "from dotenv import dotenv_values\n",
    "from typing import Optional\n",
    "from pydantic import Field\n",
    "from collections import OrderedDict"
   ],
   "metadata": {
    "collapsed": false,
    "pycharm": {
     "name": "#%%\n"
    }
   }
  },
  {
   "cell_type": "code",
   "execution_count": 9,
   "outputs": [],
   "source": [
    "class Config:\n",
    "    __ENV__: Optional[dotenv_values] = None\n",
    "\n",
    "    @staticmethod\n",
    "    def env(key: str = None):\n",
    "        if not Config.__ENV__:\n",
    "            Config.__ENV__ = OrderedDict({**dict(dotenv_values('{}/.env'.format(os.environ['PROJECT_ROOT']))),\n",
    "                         **dict(OrderedDict(os.environ))})\n",
    "        try:\n",
    "            if key:\n",
    "                value = Config.__ENV__[key]\n",
    "                if value == 'true':\n",
    "                    return True\n",
    "                elif value == 'false':\n",
    "                    return False\n",
    "                else:\n",
    "                    return value\n",
    "            else:\n",
    "                return Config.__ENV__\n",
    "        except NameError:\n",
    "            return None"
   ],
   "metadata": {
    "collapsed": false,
    "pycharm": {
     "name": "#%%\n"
    }
   }
  },
  {
   "cell_type": "code",
   "execution_count": null,
   "outputs": [],
   "source": [],
   "metadata": {
    "collapsed": false,
    "pycharm": {
     "name": "#%%\n"
    }
   }
  }
 ],
 "metadata": {
  "kernelspec": {
   "name": "science",
   "language": "python",
   "display_name": "science"
  },
  "language_info": {
   "codemirror_mode": {
    "name": "ipython",
    "version": 2
   },
   "file_extension": ".py",
   "mimetype": "text/x-python",
   "name": "python",
   "nbconvert_exporter": "python",
   "pygments_lexer": "ipython2",
   "version": "2.7.6"
  }
 },
 "nbformat": 4,
 "nbformat_minor": 0
}