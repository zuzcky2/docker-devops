{
 "cells": [
  {
   "cell_type": "code",
   "execution_count": null,
   "metadata": {
    "collapsed": true
   },
   "outputs": [],
   "source": [
    " if __name__ == '__main__':\n",
    "    import sys, os, import_ipynb\n",
    "    sys.path.append(os.environ['PROJECT_ROOT'])"
   ]
  },
  {
   "cell_type": "code",
   "execution_count": null,
   "outputs": [],
   "source": [
    "import datetime\n",
    "from typing import Tuple\n",
    "from pytz import timezone, tzfile"
   ],
   "metadata": {
    "collapsed": false,
    "pycharm": {
     "name": "#%%\n"
    }
   }
  },
  {
   "cell_type": "code",
   "execution_count": null,
   "outputs": [],
   "source": [
    "class DateService:\n",
    "    KST: tzfile = timezone('Asia/Seoul')\n",
    "    UTC: tzfile = timezone('UTC')\n",
    "\n",
    "    def __init__(self):\n",
    "        super().__init__()\n",
    "\n",
    "    @staticmethod\n",
    "    def now() -> datetime.datetime:\n",
    "        return datetime.datetime.now(DateService.UTC)\n",
    "\n",
    "    @staticmethod\n",
    "    def convert_utc(date: datetime.datetime = None) -> datetime.datetime:\n",
    "        if not date:\n",
    "            date = DateService.now()\n",
    "        return date.astimezone(DateService.UTC)\n",
    "\n",
    "    @staticmethod\n",
    "    def convert_kst(date: datetime.datetime = None) -> datetime.datetime:\n",
    "        if not date:\n",
    "            date = DateService.now()\n",
    "        return date.astimezone(DateService.KST)\n",
    "\n",
    "    @staticmethod\n",
    "    def today_utc(date: datetime.datetime = None):\n",
    "        if not date:\n",
    "            date = DateService.now()\n",
    "        today = DateService.convert_utc(datetime.datetime(date.year, date.month, date.day))\n",
    "        return today, today + datetime.timedelta(days=1)"
   ],
   "metadata": {
    "collapsed": false,
    "pycharm": {
     "name": "#%%\n"
    }
   }
  }
 ],
 "metadata": {
  "kernelspec": {
   "display_name": "Python 3",
   "language": "python",
   "name": "python3"
  },
  "language_info": {
   "codemirror_mode": {
    "name": "ipython",
    "version": 2
   },
   "file_extension": ".py",
   "mimetype": "text/x-python",
   "name": "python",
   "nbconvert_exporter": "python",
   "pygments_lexer": "ipython2",
   "version": "2.7.6"
  }
 },
 "nbformat": 4,
 "nbformat_minor": 0
}