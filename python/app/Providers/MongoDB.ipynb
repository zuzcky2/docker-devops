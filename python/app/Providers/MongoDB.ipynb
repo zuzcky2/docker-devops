{
 "cells": [
  {
   "cell_type": "code",
   "execution_count": 1,
   "outputs": [],
   "source": [
    "if __name__ == '__main__':\n",
    "    import import_ipynb, os, sys\n",
    "    sys.path.append(os.environ['PROJECT_ROOT'])"
   ],
   "metadata": {
    "collapsed": false,
    "pycharm": {
     "name": "#%%\n"
    }
   }
  },
  {
   "cell_type": "code",
   "execution_count": 2,
   "metadata": {
    "collapsed": true
   },
   "outputs": [],
   "source": [
    "import pymongo, urllib.parse\n",
    "from pymongo.database import Database\n",
    "from pymongo.command_cursor import CommandCursor\n",
    "from bson.objectid import ObjectId"
   ]
  },
  {
   "cell_type": "code",
   "execution_count": 4,
   "outputs": [],
   "source": [
    "from app.kernel import env"
   ],
   "metadata": {
    "collapsed": false,
    "pycharm": {
     "name": "#%%\n"
    }
   }
  },
  {
   "cell_type": "code",
   "execution_count": 5,
   "outputs": [],
   "source": [
    "class MongoDB:\n",
    "    client: pymongo.MongoClient = pymongo.MongoClient(\n",
    "        'mongodb://{}:{}@{}:{}/{}'.format(\n",
    "            env['MONGO_USER'], urllib.parse.quote(env['MONGO_PASS']),\n",
    "            env['MONGO_HOST'], env['MONGO_PORT'], 'admin'))\n",
    "\n",
    "    @staticmethod\n",
    "    def get_database(db_name: str) -> Database:\n",
    "        return MongoDB.client.get_database(db_name)\n",
    "\n",
    "    @staticmethod\n",
    "    def get_collection(db: Database, col_name: str) -> pymongo.collection.Collection:\n",
    "        return db.get_collection(col_name)"
   ],
   "metadata": {
    "collapsed": false,
    "pycharm": {
     "name": "#%%\n"
    }
   }
  }
 ],
 "metadata": {
  "kernelspec": {
   "name": "science",
   "language": "python",
   "display_name": "science"
  },
  "language_info": {
   "codemirror_mode": {
    "name": "ipython",
    "version": 2
   },
   "file_extension": ".py",
   "mimetype": "text/x-python",
   "name": "python",
   "nbconvert_exporter": "python",
   "pygments_lexer": "ipython2",
   "version": "2.7.6"
  }
 },
 "nbformat": 4,
 "nbformat_minor": 0
}