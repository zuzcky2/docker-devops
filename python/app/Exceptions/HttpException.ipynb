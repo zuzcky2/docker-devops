{
 "cells": [
  {
   "cell_type": "code",
   "execution_count": null,
   "outputs": [],
   "source": [
    "if __name__ == '__main__':\n",
    "    import import_ipynb, os, sys\n",
    "    sys.path.append(os.environ['PROJECT_ROOT'])"
   ],
   "metadata": {
    "collapsed": false,
    "pycharm": {
     "name": "#%%\n"
    }
   }
  },
  {
   "cell_type": "code",
   "execution_count": 1,
   "metadata": {
    "collapsed": true,
    "pycharm": {
     "name": "#%%\n"
    }
   },
   "outputs": [],
   "source": [
    "class BadRequest400Exception(Exception):\n",
    "    def __init__(self, message: str = '', data=None, error: str = None):\n",
    "        message = message if message else '잘못된 요청입니다.'\n",
    "        self.code = 400\n",
    "        self.msg = \"400 Bad Reqeust // %s\" % message\n",
    "        self.data = data\n",
    "        self.error = error\n",
    "        super().__init__()\n",
    "\n",
    "    def __str__(self):\n",
    "        return 'msg > {} / detail > {}'.format(self.msg, self.error if self.error else '')\n",
    "\n",
    "\n",
    "class Unauthorized401Exception(Exception):\n",
    "    def __init__(self, message: str = '', data=None, error: str = None):\n",
    "        message = message if message else '인증에 실패했습니다.'\n",
    "        self.code = 401\n",
    "        self.msg = \"401 Unauthorized // %s\" % message\n",
    "        self.data = data\n",
    "        self.error = error\n",
    "        super().__init__()\n",
    "\n",
    "    def __str__(self):\n",
    "        return self.msg\n",
    "\n",
    "\n",
    "class Forbidden403Exception(Exception):\n",
    "    def __init__(self, message: str = '', data=None, error: str = None):\n",
    "        message = message if message else '권한이 없습니다.'\n",
    "        self.code = 403\n",
    "        self.msg = \"403 Forbidden // %s\" % message\n",
    "        self.data = data\n",
    "        self.error = error\n",
    "        super().__init__()\n",
    "\n",
    "    def __str__(self):\n",
    "        return 'msg > {} / detail > {}'.format(self.msg, self.error if self.error else '')\n",
    "\n",
    "\n",
    "class NotFound404Exception(Exception):\n",
    "    def __init__(self, message: str = '', data=None, error: str = None):\n",
    "        message = message if message else '페이지를 찾을 수 없습니다.'\n",
    "        self.code = 404\n",
    "        self.msg = \"404 Not Found // %s\" % message\n",
    "        self.data = data\n",
    "        self.error = error\n",
    "        super().__init__()\n",
    "\n",
    "    def __str__(self):\n",
    "        return 'msg > {} / detail > {}'.format(self.msg, self.error if self.error else '')\n",
    "\n",
    "\n",
    "class RequestTimeout408Exception(Exception):\n",
    "    def __init__(self, message: str = '', data=None, error: str = None):\n",
    "        message = message if message else '인증시간이 초과되었습니다.'\n",
    "        self.code = 408\n",
    "        self.msg = \"408 Request Timeout // %s\" % message\n",
    "        self.data = data\n",
    "        self.error = error\n",
    "        super().__init__()\n",
    "\n",
    "    def __str__(self):\n",
    "        return 'msg > {} / detail > {}'.format(self.msg, self.error if self.error else '')\n",
    "\n",
    "\n",
    "class UnprocessableEntity422Exception(Exception):\n",
    "    def __init__(self, message: str = '', data=None, error: str = None):\n",
    "        message = message if message else '요청값이 잘못되었습니다.'\n",
    "        self.code = 422\n",
    "        self.msg = \"422 Unprocessable Entity // %s\" % message\n",
    "        self.data = data\n",
    "        self.error = error\n",
    "        super().__init__()\n",
    "\n",
    "    def __str__(self):\n",
    "        return 'msg > {} / detail > {}'.format(self.msg, self.error if self.error else '')\n",
    "\n",
    "\n",
    "class InternalServerError500Exception(Exception):\n",
    "    def __init__(self, message: str = '', data=None, error: str = None):\n",
    "        message = message if message else '서버내부에 오류가있습니다.'\n",
    "        self.code = 500\n",
    "        self.msg = \"500 Internal Server Error // %s\" % message\n",
    "        self.data = data\n",
    "        self.error = error\n",
    "        super().__init__()\n",
    "\n",
    "    def __str__(self):\n",
    "        return 'msg > {} / detail > {}'.format(self.msg, self.error if self.error else '')"
   ]
  }
 ],
 "metadata": {
  "kernelspec": {
   "name": "science",
   "language": "python",
   "display_name": "science"
  },
  "language_info": {
   "codemirror_mode": {
    "name": "ipython",
    "version": 2
   },
   "file_extension": ".py",
   "mimetype": "text/x-python",
   "name": "python",
   "nbconvert_exporter": "python",
   "pygments_lexer": "ipython2",
   "version": "2.7.6"
  }
 },
 "nbformat": 4,
 "nbformat_minor": 0
}