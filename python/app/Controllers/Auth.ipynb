{
 "cells": [
  {
   "cell_type": "code",
   "execution_count": null,
   "metadata": {
    "collapsed": true
   },
   "outputs": [],
   "source": [
    " if __name__ == '__main__':\n",
    "    import sys, os, import_ipynb\n",
    "    sys.path.append(os.environ['PROJECT_ROOT'])"
   ]
  },
  {
   "cell_type": "code",
   "execution_count": null,
   "outputs": [],
   "source": [
    "from fastapi import Response, Request, Depends\n",
    "import pybase64, bcrypt\n",
    "from bson import ObjectId\n",
    "from app.Validations.Validation import MongoModel, PyObjectId\n",
    "from pydantic import BaseModel, Field, HttpUrl, constr, ValidationError, validator, conlist, EmailStr\n",
    "from typing import Generic, TypeVar, Optional, List, Dict, Set"
   ],
   "metadata": {
    "collapsed": false,
    "pycharm": {
     "name": "#%%\n"
    }
   }
  },
  {
   "cell_type": "code",
   "execution_count": null,
   "outputs": [],
   "source": [
    "from app.Controllers.Controller import Controller\n",
    "from app.kernel import env\n",
    "from app.Services.DateService import DateService\n",
    "import app.Exceptions.HttpException as HEP\n",
    "from app.Models.MongoDB.Cloud.Placement import Placement"
   ],
   "metadata": {
    "collapsed": false,
    "pycharm": {
     "name": "#%%\n"
    }
   }
  },
  {
   "cell_type": "code",
   "execution_count": null,
   "outputs": [],
   "source": [
    "class Auth(Controller):\n",
    "    def __init__(self):\n",
    "        super().__init__()\n",
    "\n",
    "    class EditResponse(MongoModel):\n",
    "        result: bool = Field(title='결과')\n",
    "    def store(self, token: str) -> EditResponse:\n",
    "        try:\n",
    "            placement = Placement.col.find_one({'options.api_key': token})\n",
    "            if placement:\n",
    "                return Auth.EditResponse(result=True)\n",
    "            else:\n",
    "                raise HEP.Unauthorized401Exception()\n",
    "        except Exception as e:\n",
    "            raise HEP.BadRequest400Exception(e)"
   ],
   "metadata": {
    "collapsed": false,
    "pycharm": {
     "name": "#%%\n"
    }
   }
  }
 ],
 "metadata": {
  "kernelspec": {
   "display_name": "Python 3",
   "language": "python",
   "name": "python3"
  },
  "language_info": {
   "codemirror_mode": {
    "name": "ipython",
    "version": 2
   },
   "file_extension": ".py",
   "mimetype": "text/x-python",
   "name": "python",
   "nbconvert_exporter": "python",
   "pygments_lexer": "ipython2",
   "version": "2.7.6"
  }
 },
 "nbformat": 4,
 "nbformat_minor": 0
}